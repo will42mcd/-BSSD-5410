{
 "cells": [
  {
   "cell_type": "code",
   "execution_count": 8,
   "metadata": {},
   "outputs": [
    {
     "name": "stdout",
     "output_type": "stream",
     "text": [
      "Linear search took: 0.0001667998731136322\n",
      "Binary search took: 3.0199997127056122e-05\n"
     ]
    }
   ],
   "source": [
    "def search(arr, n, x):\n",
    "    operations = 0\n",
    "    for i in range (0, n):\n",
    "        operations += 1\n",
    "        if (arr[i] == x):\n",
    "            #print(f\"linear ops: {operations}\")\n",
    "            return i\n",
    "    #print(f\"linear {operations}\")\n",
    "    return -1\n",
    "# Python3 code to implement iterative Binary\n",
    "# Search.\n",
    "# It returns location of x in given array arr\n",
    "def binarySearch(arr, l, r, x):\n",
    "    operations = 0\n",
    "    while l <= r:\n",
    "        operations += 1\n",
    "        mid = l + (r - l) // 2;\n",
    "        # Check if x is present at mid\n",
    "        if arr[mid] == x:\n",
    "            #print(f\"Binary ops: {operations}\");\n",
    "            return mid\n",
    "        \n",
    "        # If x is greater, ignore left half\n",
    "        elif arr[mid] < x:\n",
    "            l = mid + 1\n",
    "\n",
    "        # If x is smaller, ignore right half\n",
    "        else:\n",
    "            r = mid - 1\n",
    "\n",
    "    # If we reach here, then the element\n",
    "    # was not present\n",
    "    #print(f\"binary ops: {operations}\")\n",
    "    return -1\n",
    "\n",
    "import timeit\n",
    "import random\n",
    "# Driver Code\n",
    "arr = [random.randint(0, 1000) for _ in range(200)]\n",
    "x = 10\n",
    "n = len(arr)\n",
    "\n",
    "iter = 10\n",
    "ltime = timeit.timeit(lambda:search(arr, n, x),\\\n",
    "                      setup = \"from __main__ import binarySearch\", number = iter)\n",
    "btime = timeit.timeit(lambda:binarySearch(arr,0,len(arr)-1,x),\\\n",
    "                      setup = \"from __main__ import binarySearch\", number = iter)\n",
    "print(f\"Linear search took: {ltime}\")\n",
    "print(f\"Binary search took: {btime}\")"
   ]
  }
 ],
 "metadata": {
  "kernelspec": {
   "display_name": "base",
   "language": "python",
   "name": "python3"
  },
  "language_info": {
   "codemirror_mode": {
    "name": "ipython",
    "version": 3
   },
   "file_extension": ".py",
   "mimetype": "text/x-python",
   "name": "python",
   "nbconvert_exporter": "python",
   "pygments_lexer": "ipython3",
   "version": "3.12.2"
  }
 },
 "nbformat": 4,
 "nbformat_minor": 2
}
